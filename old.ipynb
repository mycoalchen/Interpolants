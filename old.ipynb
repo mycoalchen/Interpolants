{
 "cells": [
  {
   "cell_type": "code",
   "execution_count": 1,
   "id": "64929e5a",
   "metadata": {},
   "outputs": [],
   "source": [
    "import numpy as np\n",
    "import torch\n",
    "from torch import nn\n",
    "from torch.nn import functional as F\n",
    "from abc import ABC, abstractmethod\n",
    "from typing import Callable"
   ]
  },
  {
   "cell_type": "code",
   "execution_count": 2,
   "id": "a51b2e79",
   "metadata": {},
   "outputs": [],
   "source": [
    "\"\"\"\n",
    "MSE with per-sample weighting\n",
    "pred, target, and weights should all have shape (B)\n",
    "\"\"\"\n",
    "def loss(pred, target, weights):\n",
    "    se = (pred - target) ** 2\n",
    "    return (weights.unsqueeze(1) * se).mean()\n",
    "\n",
    "\"\"\"\n",
    "From https://arxiv.org/pdf/2011.13456; target is ∇ log p(xt | x0)\n",
    "\"\"\"\n",
    "def sbgm_loss(pred, target, sigma_t):\n",
    "    return loss(pred, target, sigma_t.pow(2))"
   ]
  },
  {
   "cell_type": "code",
   "execution_count": null,
   "id": "5b57a4f1",
   "metadata": {},
   "outputs": [],
   "source": [
    "def ddpm_forward(x0, T, alpha_bar, sigma):\n",
    "    B = x0.shape[0]\n",
    "    t = torch.randint(1, T, (B,))\n",
    "    alpha_bar_t = torch.take(alpha_bar, t)\n",
    "    eps = torch.randn(B)\n",
    "    sigma_t = torch.take(sigma, t)\n",
    "    xt = torch.sqrt(alpha_bar_t) * x0 + sigma_t * eps\n",
    "    return t, xt, eps, sigma_t"
   ]
  },
  {
   "cell_type": "code",
   "execution_count": null,
   "id": "6638b93a",
   "metadata": {},
   "outputs": [],
   "source": [
    "class SBGM():\n",
    "    def __init__(self, beta: torch.Tensor):\n",
    "        self.T = beta.shape[0]\n",
    "        self.alpha_bar = torch.cumprod(1 - beta, dim=0)\n",
    "        self.sigma = torch.sqrt(1 - self.alpha_bar)\n",
    "\n",
    "    def forward(self, x0):\n",
    "        return ddpm_forward(x0, self.T, self.alpha_bar, self.sigma)\n",
    "\n",
    "    def drift(self, eps, sigma):\n",
    "        return -eps / sigma\n",
    "\n",
    "beta = torch.linspace(0, 1, 250)\n",
    "sbgm = SBGM(beta)\n",
    "model = nn.Sequential(\n",
    "    nn.Linear(2, 8),\n",
    "    nn.ReLU(),\n",
    "    nn.Linear(8, 1))\n",
    "optimizer = torch.optim.AdamW(model.parameters(), lr=0.01)"
   ]
  },
  {
   "cell_type": "code",
   "execution_count": 14,
   "id": "217957b7",
   "metadata": {},
   "outputs": [],
   "source": [
    "data_dist = torch.distributions.mixture_same_family.MixtureSameFamily(\n",
    "    torch.distributions.Categorical(torch.tensor([1, 1])),\n",
    "    torch.distributions.Normal(torch.Tensor([-4, 4]), torch.Tensor([1, 1]))\n",
    ")"
   ]
  },
  {
   "cell_type": "code",
   "execution_count": 16,
   "id": "97c2ffd7",
   "metadata": {},
   "outputs": [
    {
     "name": "stdout",
     "output_type": "stream",
     "text": [
      "Epoch 0 loss 2700.250244140625\n",
      "Epoch 10 loss 63.83141326904297\n",
      "Epoch 20 loss 130.23263549804688\n",
      "Epoch 30 loss 16.963125228881836\n",
      "Epoch 40 loss 8.12024211883545\n",
      "Epoch 50 loss 5.364798545837402\n",
      "Epoch 60 loss 0.8837070465087891\n",
      "Epoch 70 loss 1.3042747974395752\n",
      "Epoch 80 loss 0.5459372401237488\n",
      "Epoch 90 loss 0.5773472189903259\n"
     ]
    }
   ],
   "source": [
    "EPOCHS = 100\n",
    "B = 50000\n",
    "\n",
    "model.train(True)\n",
    "for epoch in range(EPOCHS):\n",
    "    optimizer.zero_grad()\n",
    "    x0 = data_dist.sample(torch.Size([B]))\n",
    "    t, xt, eps, sigma_t = sbgm.forward(x0)\n",
    "    pred = model(torch.stack((xt, t), dim=1))\n",
    "    target = sbgm.drift(eps, sigma_t).unsqueeze(1)\n",
    "    loss = sbgm_loss(pred, target, sigma_t).mean()\n",
    "    if epoch % 10 == 0:\n",
    "        print(f\"Epoch {epoch} loss {loss}\")\n",
    "    loss.backward()\n",
    "    optimizer.step()"
   ]
  },
  {
   "cell_type": "code",
   "execution_count": null,
   "id": "72b447e1",
   "metadata": {},
   "outputs": [],
   "source": []
  },
  {
   "cell_type": "code",
   "execution_count": null,
   "id": "da6636df",
   "metadata": {},
   "outputs": [],
   "source": []
  }
 ],
 "metadata": {
  "kernelspec": {
   "display_name": "interpolants",
   "language": "python",
   "name": "python3"
  },
  "language_info": {
   "codemirror_mode": {
    "name": "ipython",
    "version": 3
   },
   "file_extension": ".py",
   "mimetype": "text/x-python",
   "name": "python",
   "nbconvert_exporter": "python",
   "pygments_lexer": "ipython3",
   "version": "3.10.18"
  }
 },
 "nbformat": 4,
 "nbformat_minor": 5
}
