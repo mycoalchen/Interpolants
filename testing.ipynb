{
 "cells": [
  {
   "cell_type": "code",
   "execution_count": 92,
   "id": "64929e5a",
   "metadata": {},
   "outputs": [],
   "source": [
    "import numpy as np\n",
    "import torch\n",
    "from abc import ABC, abstractmethod\n",
    "from typing import Callable"
   ]
  },
  {
   "cell_type": "code",
   "execution_count": 93,
   "id": "b2ade529",
   "metadata": {},
   "outputs": [],
   "source": [
    "class Path(ABC):\n",
    "    @abstractmethod\n",
    "    def forward(self, x0: torch.Tensor, x1: torch.Tensor) -> tuple[torch.Tensor, torch.Tensor]:\n",
    "        \"\"\" \n",
    "        Given x0 and x1, return (t, xt) sampled between them\n",
    "        \"\"\"\n",
    "        pass\n",
    "    @abstractmethod\n",
    "    def drift(self, t1: torch.Tensor, x1: torch.Tensor, t2: torch.Tensor | None, x2: torch.Tensor | None) -> torch.Tensor:\n",
    "        \"\"\" \n",
    "        Given t1, x1, None, None, return flow or score\n",
    "        Given t1, x1, t2, x2, return mean flow\n",
    "        \"\"\"\n",
    "        pass\n",
    "\n",
    "# (pred, target) -> loss\n",
    "LossFunction = Callable[[torch.Tensor, torch.Tensor], torch.Tensor]"
   ]
  },
  {
   "cell_type": "code",
   "execution_count": null,
   "id": "45413aa1",
   "metadata": {},
   "outputs": [],
   "source": [
    "def train(model: torch.nn.Module, path: Path, loss_function: LossFunction):\n",
    "    pass"
   ]
  }
 ],
 "metadata": {
  "kernelspec": {
   "display_name": "interpolants",
   "language": "python",
   "name": "python3"
  },
  "language_info": {
   "codemirror_mode": {
    "name": "ipython",
    "version": 3
   },
   "file_extension": ".py",
   "mimetype": "text/x-python",
   "name": "python",
   "nbconvert_exporter": "python",
   "pygments_lexer": "ipython3",
   "version": "3.10.18"
  }
 },
 "nbformat": 4,
 "nbformat_minor": 5
}
